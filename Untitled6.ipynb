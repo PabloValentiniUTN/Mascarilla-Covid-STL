{
  "nbformat": 4,
  "nbformat_minor": 0,
  "metadata": {
    "colab": {
      "name": "Untitled6.ipynb",
      "provenance": [],
      "authorship_tag": "ABX9TyNkAbMOTnNmKe0gj/pxoJjt",
      "include_colab_link": true
    },
    "kernelspec": {
      "name": "python3",
      "display_name": "Python 3"
    },
    "language_info": {
      "name": "python"
    }
  },
  "cells": [
    {
      "cell_type": "markdown",
      "metadata": {
        "id": "view-in-github",
        "colab_type": "text"
      },
      "source": [
        "<a href=\"https://colab.research.google.com/github/PabloValentiniUTN/Mascarilla-Covid-STL/blob/main/Untitled6.ipynb\" target=\"_parent\"><img src=\"https://colab.research.google.com/assets/colab-badge.svg\" alt=\"Open In Colab\"/></a>"
      ]
    },
    {
      "cell_type": "markdown",
      "metadata": {
        "id": "VrJrA89NyAU7"
      },
      "source": [
        "## Primer notebook para investigar compartir en github"
      ]
    },
    {
      "cell_type": "markdown",
      "metadata": {
        "id": "O8LxDW91yaYy"
      },
      "source": [
        "## Solo pruebas"
      ]
    },
    {
      "cell_type": "markdown",
      "metadata": {
        "id": "XtBNflz4yTVR"
      },
      "source": [
        "Notebook de prueba. Probar hacer un commit con modificacion"
      ]
    },
    {
      "cell_type": "code",
      "metadata": {
        "id": "NqNsZtgTyGok"
      },
      "source": [
        "import numpy as np\n",
        "import pandas as pd"
      ],
      "execution_count": 1,
      "outputs": []
    },
    {
      "cell_type": "code",
      "metadata": {
        "colab": {
          "base_uri": "https://localhost:8080/"
        },
        "id": "OW-wh4UGx7Rs",
        "outputId": "b3b0471a-48cc-4a5f-c24b-e04cd7c4a285"
      },
      "source": [
        "print(\"probando Repo en github\")"
      ],
      "execution_count": 2,
      "outputs": [
        {
          "output_type": "stream",
          "text": [
            "probando Repo en github\n"
          ],
          "name": "stdout"
        }
      ]
    }
  ]
}